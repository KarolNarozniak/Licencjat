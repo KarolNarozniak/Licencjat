{
 "cells": [
  {
   "cell_type": "code",
   "execution_count": 1,
   "id": "fa84d314-68b5-407c-b78d-ec50af7b4040",
   "metadata": {},
   "outputs": [],
   "source": [
    "#Praca Licencjacka 2025"
   ]
  },
  {
   "cell_type": "code",
   "execution_count": null,
   "id": "343e6e12",
   "metadata": {},
   "outputs": [],
   "source": [
    "# Instalacja wymaganych bibliotek\n",
    "%pip install -r requirements.txt"
   ]
  },
  {
   "cell_type": "code",
   "execution_count": 3,
   "id": "9d4602ed-00af-4e31-90cb-04d957b79fdd",
   "metadata": {},
   "outputs": [],
   "source": [
    "import pandas as pd\n",
    "import numpy as np\n",
    "import matplotlib.pyplot as plt\n",
    "import seaborn as sns\n",
    "from scipy.stats import shapiro, spearmanr, jarque_bera\n",
    "from sklearn.linear_model import LinearRegression\n",
    "import statsmodels.api as sm\n",
    "import statsmodels.formula.api as smf"
   ]
  },
  {
   "cell_type": "code",
   "execution_count": null,
   "id": "8d42f162-ce1e-452e-b532-58ff65ac5b7f",
   "metadata": {},
   "outputs": [],
   "source": [
    "#Dane\n",
    "data_path = \"Model_Lekarz.xlsx\" \n",
    "data = pd.read_excel(data_path)\n",
    "data.head()"
   ]
  },
  {
   "cell_type": "code",
   "execution_count": 5,
   "id": "479a0475-2d10-41f4-b642-061bc459e166",
   "metadata": {},
   "outputs": [],
   "source": [
    "#Przypisywanie kategorii i etykiet\n",
    "data['miejscowosc'] = pd.Categorical(data['klasa_miejsca'], \n",
    "                                     categories=[1, 2, 3, 4, 5, 6], \n",
    "                                     ordered=True)\n",
    "data['miejscowosc'] = data['miejscowosc'].cat.rename_categories([\"powyzej 500 tys\", \"200-499 tys\", \n",
    "                                                                 \"100-199 tys\", \"20-99 tys\", \n",
    "                                                                 \"ponizej 20 tys\", \"wies\"])\n",
    "\n",
    "data['wyksztalcenie_1'] = pd.Categorical(data['wyksz'], \n",
    "                                       categories=[1, 2, 3], \n",
    "                                       ordered=True)\n",
    "data['wyksztalcenie_1'] = data['wyksztalcenie_1'].cat.rename_categories([\"podstawowe\", \"srednie\", \n",
    "                                                                     \"wyzsze\"])\n",
    "\n",
    "data['mozliwosci_oszczedzania_1'] = pd.Categorical(data['moz_oszcz'], \n",
    "                                                 categories=[1, 2, 3, 4], \n",
    "                                                 ordered=True)\n",
    "data['mozliwosci_oszczedzania_1'] = data['mozliwosci_oszczedzania_1'].cat.rename_categories([\"regularnie\", \"nieregularnie\", \n",
    "                                                                                         \"mozemy_ale_nie\", \"nie_mozemy\"])\n",
    "\n",
    "data['zrodlo_utrzymania_1'] = pd.Categorical(data['glowne_zrod_utrzym'], \n",
    "                                           categories=[1, 2, 3, 4, 5], \n",
    "                                           ordered=True)\n",
    "data['zrodlo_utrzymania_1'] = data['zrodlo_utrzymania_1'].cat.rename_categories([\"pracownicy\", \"rolnicy\", \n",
    "                                                                             \"praca na wlasny rachunek\", \"emeryt/rencista\", \n",
    "                                                                             \"niezarobkowe zrodla dochodu\"])\n",
    "\n",
    "data['sytuacja_materialna_1'] = pd.Categorical(data['syt_mat'], \n",
    "                                             categories=[1, 2, 3, 4, 5], \n",
    "                                             ordered=True)\n",
    "data['sytuacja_materialna_1'] = data['sytuacja_materialna_1'].cat.rename_categories([\"dobra\", \"raczej dobra\", \n",
    "                                                                                 \"przecietna\", \"raczej zla\", \"zla\"])\n",
    "\n",
    "\n",
    "\n",
    "\n",
    "\n",
    "# Filtrowanie danych\n",
    "model2 = data[data['wyd_os_lek'] > 0]"
   ]
  },
  {
   "cell_type": "code",
   "execution_count": null,
   "id": "f9a7156f-2547-4a84-beda-913eadca08c2",
   "metadata": {},
   "outputs": [],
   "source": [
    "model2.head()\n"
   ]
  },
  {
   "cell_type": "code",
   "execution_count": null,
   "id": "61a1e60f-6eaa-441f-947a-dc6388f33d71",
   "metadata": {},
   "outputs": [],
   "source": [
    "import matplotlib.pyplot as plt\n",
    "\n",
    "fig, (ax1, ax2) = plt.subplots(1, 2, figsize=(12, 5))\n",
    "\n",
    "# Histogram wydatków\n",
    "ax1.hist(model2['wyd_os_lek'], bins=30, color='blue', edgecolor='purple')\n",
    "ax1.set_xlabel('Wydatki')\n",
    "ax1.set_title('Histogram wydatków')\n",
    "\n",
    "# Histogram logarytmu wydatków\n",
    "ax2.hist(np.log(model2['wyd_os_lek']), bins=30, color='blue', edgecolor='purple')\n",
    "ax2.set_xlabel('Log wydatków')\n",
    "ax2.set_title('Histogram logarytmu wydatków')\n",
    "\n",
    "plt.tight_layout()\n",
    "plt.show()"
   ]
  },
  {
   "cell_type": "code",
   "execution_count": null,
   "id": "c821e990-3e66-4dd3-b023-3f90c6eb71b0",
   "metadata": {},
   "outputs": [],
   "source": [
    "summary_wydatki_los = model2['wyd_os_lek'].describe()\n",
    "print(summary_wydatki_los)"
   ]
  },
  {
   "cell_type": "code",
   "execution_count": null,
   "id": "ebdfe9aa-fbd0-4865-9b4f-e398ee0e69df",
   "metadata": {},
   "outputs": [],
   "source": [
    "#Miejscowość\n",
    "sns.boxplot(y=model2['miejscowosc'], x=np.log(model2['wyd_os_lek']), orient='h')\n",
    "plt.title('Wydatki vs miejscowość')\n",
    "plt.xlabel('Logarytm wydatków')\n",
    "plt.ylabel('Miejscowość')\n",
    "plt.show()"
   ]
  },
  {
   "cell_type": "code",
   "execution_count": null,
   "id": "70ef8642-e1a4-4076-bf16-1a13e60e35b6",
   "metadata": {},
   "outputs": [],
   "source": [
    "summary_miejscowosc = model2.groupby('miejscowosc', observed = 'False')['wyd_os_lek'].describe()\n",
    "print(summary_miejscowosc)"
   ]
  },
  {
   "cell_type": "code",
   "execution_count": null,
   "id": "263ec1df-7810-40d3-abe9-cff14f54a3cc",
   "metadata": {},
   "outputs": [],
   "source": [
    "#Wykształcenie\n",
    "sns.boxplot(y=model2['wyksztalcenie_1'], x=np.log(model2['wyd_os_lek']), orient='h')\n",
    "plt.title('Wydatki vs wykształcenie')\n",
    "plt.xlabel('Logarytm wydatków')\n",
    "plt.ylabel('Wykształcenie')\n",
    "plt.show()"
   ]
  },
  {
   "cell_type": "code",
   "execution_count": null,
   "id": "7040d700-48ad-493f-8ec0-7b7724a73d4e",
   "metadata": {},
   "outputs": [],
   "source": [
    "summary_wyksztalcenie = model2.groupby('wyksztalcenie_1', observed = 'False')['wyd_os_lek'].describe()\n",
    "print(summary_wyksztalcenie)\n"
   ]
  },
  {
   "cell_type": "code",
   "execution_count": null,
   "id": "f733c095-2cd0-48a0-b7b9-116658c245a3",
   "metadata": {},
   "outputs": [],
   "source": [
    "from scipy.stats import kruskal\n",
    "\n",
    "# Dane do testu – oddzielne grupy\n",
    "podstawowe = model2[model2['wyksztalcenie_1'] == 'podstawowe']['wyd_os_lek']\n",
    "srednie = model2[model2['wyksztalcenie_1'] == 'srednie']['wyd_os_lek']\n",
    "wyzsze = model2[model2['wyksztalcenie_1'] == 'wyzsze']['wyd_os_lek']\n",
    "\n",
    "# Test Kruskala-Wallisa\n",
    "stat, p = kruskal(podstawowe, srednie, wyzsze)\n",
    "\n",
    "print(f\"Wartość statystyki H = {stat:.4f}\")\n",
    "print(f\"Wartość p = {p:.4f}\")\n",
    "\n",
    "if p < 0.05:\n",
    "    print(\"Różnice pomiędzy grupami są statystycznie istotne (p < 0.05).\")\n",
    "else:\n",
    "    print(\"Brak istotnych statystycznie różnic pomiędzy grupami.\")"
   ]
  },
  {
   "cell_type": "code",
   "execution_count": null,
   "id": "a5619594-5092-4a46-a569-961db93d6e58",
   "metadata": {},
   "outputs": [],
   "source": [
    "#Histogram dochodu\n",
    "model2['dochod_los'] = model2['doch_os'].apply(lambda x: 0.1 if (x == 0 or x<0) else x)\n",
    "fig, ax = plt.subplots(1, 2, figsize=(12, 6))\n",
    "ax[0].hist(model2['dochod_los'], bins=30, color='blue', edgecolor = 'purple')\n",
    "ax[0].set_title('Histogram dochodu na osobę')\n",
    "ax[0].set_xlabel('Dochód na osobę')\n",
    "\n",
    "ax[1].hist(np.log(model2['dochod_los']), bins=30, color='blue', edgecolor = 'purple')\n",
    "ax[1].set_title('Histogram logarytmu dochodu na osobę')\n",
    "ax[1].set_xlabel('Logarytm dochodu na osobę')\n",
    "\n",
    "plt.tight_layout()\n",
    "plt.show()"
   ]
  },
  {
   "cell_type": "code",
   "execution_count": null,
   "id": "9d15ed31-3754-44c6-a75d-e9ab8fb1476f",
   "metadata": {},
   "outputs": [],
   "source": [
    "model2['log_dochod'] = np.log(model2['dochod_los'])\n",
    "model2['log_dochod_kwadrat'] = model2['log_dochod'] ** 2\n",
    "\n",
    "import statsmodels.formula.api as smf\n",
    "\n",
    "model = smf.ols('wyd_os_lek ~ log_dochod + log_dochod_kwadrat', data=model2).fit()\n",
    "print(model.summary())"
   ]
  },
  {
   "cell_type": "code",
   "execution_count": null,
   "id": "ffaacb76-c593-4dad-9510-58896ebc7538",
   "metadata": {},
   "outputs": [],
   "source": [
    "summary_dochod_los = model2['doch_os'].describe()\n",
    "print(summary_dochod_los)"
   ]
  },
  {
   "cell_type": "code",
   "execution_count": null,
   "id": "851acee8-1638-44ca-9c51-37358ca5ef3d",
   "metadata": {},
   "outputs": [],
   "source": [
    "#Wykres rozrzutu\n",
    "plt.scatter(model2['wiek'], model2['wyd_os_lek'], alpha=0.5)\n",
    "plt.title('Wydatki vs Wiek')\n",
    "plt.xlabel('Wiek')\n",
    "plt.ylabel('Wydatki')\n",
    "plt.show()\n",
    "\n",
    "# Dla logarytmów\n",
    "plt.scatter(model2['wiek'], np.log(model2['wyd_os_lek']), alpha=0.5)\n",
    "plt.title('Logarytm wydatków vs Wiek')\n",
    "plt.xlabel('Wiek')\n",
    "plt.ylabel('Logarytm wydatków')\n",
    "plt.show()"
   ]
  },
  {
   "cell_type": "code",
   "execution_count": null,
   "id": "ba6a2637-363b-45c5-a5ad-38f001aff662",
   "metadata": {},
   "outputs": [],
   "source": [
    "import pandas as pd\n",
    "import matplotlib.pyplot as plt\n",
    "import numpy as np\n",
    "\n",
    "# Wczytanie danych z pliku .xlsx\n",
    "model2 = pd.read_excel('Model_Lekarz.xlsx')  \n",
    "\n",
    "# Tworzenie zmiennych zero-jedynkowych dla wykształcenia\n",
    "model2['wyzsze'] = model2['wyksz'].apply(lambda x: 1 if x == 3 else 0)\n",
    "model2['srednie'] = model2['wyksz'].apply(lambda x: 1 if x == 2  else 0)\n",
    "model2['podstawowe'] = model2['wyksz'].apply(lambda x: 1 if x == 1 else 0)\n",
    "print(model2[['wyzsze', 'srednie', 'podstawowe']].sum())\n",
    "\n",
    "# Miasto\n",
    "model2['powyzej500tys'] = model2['klasa_miejsca'].apply(lambda x: 1 if x == 1 else 0)\n",
    "model2['od200do499'] = model2['klasa_miejsca'].apply(lambda x: 1 if x == 2 else 0)\n",
    "model2['od100do199'] = model2['klasa_miejsca'].apply(lambda x: 1 if x == 3 else 0)\n",
    "model2['od20do99'] = model2['klasa_miejsca'].apply(lambda x: 1 if x == 4 else 0)\n",
    "model2['ponizej20'] = model2['klasa_miejsca'].apply(lambda x: 1 if x == 5 else 0)\n",
    "model2['wies'] = model2['klasa_miejsca'].apply(lambda x: 1 if x == 6 else 0)\n",
    "print(model2[['powyzej500tys', 'od200do499', 'od100do199', 'od20do99', 'ponizej20', 'wies']].sum())\n",
    "\n",
    "# Możliwości oszczędzania\n",
    "model2['regularnie'] = model2['moz_oszcz'].apply(lambda x: 1 if x == 1 else 0)\n",
    "model2['nieregularnie'] = model2['moz_oszcz'].apply(lambda x: 1 if x == 2 else 0)\n",
    "model2['mozemy_ale_nie'] = model2['moz_oszcz'].apply(lambda x: 1 if x == 3 else 0)\n",
    "model2['nie_mozemy'] = model2['moz_oszcz'].apply(lambda x: 1 if x == 4 else 0)\n",
    "print(model2[['regularnie', 'nieregularnie', 'mozemy_ale_nie', 'nie_mozemy']].sum())\n",
    "\n",
    "# Sytuacja materialna\n",
    "model2['dobra'] = model2['syt_mat'].apply(lambda x: 1 if x == 1 else 0)\n",
    "model2['raczej_dobra'] = model2['syt_mat'].apply(lambda x: 1 if x == 2 else 0)\n",
    "model2['przecietna'] = model2['syt_mat'].apply(lambda x: 1 if x == 3 else 0)\n",
    "model2['raczej_zla'] = model2['syt_mat'].apply(lambda x: 1 if x == 4 else 0)\n",
    "model2['zla'] = model2['syt_mat'].apply(lambda x: 1 if x == 5 else 0)\n",
    "print(model2[['dobra', 'raczej_dobra', 'przecietna', 'raczej_zla', 'zla']].sum())\n",
    "\n",
    "# Źródło utrzymania\n",
    "model2['pracownicy'] = model2['glowne_zrod_utrzym'].apply(lambda x: 1 if x == 1 else 0)\n",
    "model2['rolnicy'] = model2['glowne_zrod_utrzym'].apply(lambda x: 1 if x == 2 else 0)\n",
    "model2['wlasny_rachunek'] = model2['glowne_zrod_utrzym'].apply(lambda x: 1 if x == 3 else 0)\n",
    "model2['emeryt_rencista'] = model2['glowne_zrod_utrzym'].apply(lambda x: 1 if x == 4 else 0)\n",
    "model2['niezarobkowe'] = model2['glowne_zrod_utrzym'].apply(lambda x: 1 if x == 5 else 0)\n",
    "print(model2[['pracownicy', 'rolnicy', 'wlasny_rachunek', 'emeryt_rencista', 'niezarobkowe']].sum())\n"
   ]
  },
  {
   "cell_type": "code",
   "execution_count": null,
   "id": "02e9083d-479b-4780-9af7-939315f6cb55",
   "metadata": {},
   "outputs": [],
   "source": [
    "#Macierz korelacji\n",
    "first_12_columns = model2.iloc[:, :14]\n",
    "\n",
    "# Obliczamy macierz korelacji\n",
    "correlation_matrix = first_12_columns.corr()\n",
    "\n",
    "# Wyświetlamy macierz korelacji jako wykres\n",
    "plt.figure(figsize=(10, 8))\n",
    "sns.heatmap(correlation_matrix, annot=True, cmap='coolwarm', fmt='.2f', linewidths=0.5)\n",
    "plt.title('Macierz korelacji')\n",
    "plt.show()"
   ]
  },
  {
   "cell_type": "code",
   "execution_count": null,
   "id": "e90408cc-63da-4c2f-a92d-5a804f9eafad",
   "metadata": {},
   "outputs": [],
   "source": [
    "import statsmodels.formula.api as smf\n",
    "\n",
    "\n",
    "# Zmienna zależna (logarytm wydatków)\n",
    "model2['log_wydatki'] = model2['wyd_os_lek'].apply(lambda x: np.log(x) if x > 0 else np.nan)\n",
    "\n",
    "# Formuła regresji\n",
    "formula = \"log_wydatki ~ wiek + doch_os + wyzsze + srednie + powyzej500tys + od200do499 + od100do199 + od20do99 + ponizej20 + rolnicy + wlasny_rachunek + emeryt_rencista + niezarobkowe + liczba_osob + regularnie + nieregularnie + mozemy_ale_nie +  plec + inwalidztwo\"\n",
    "\n",
    "# Regresja\n",
    "reg_model2 = smf.ols(formula=formula, data=model2).fit()\n",
    "\n",
    "# Wyniki\n",
    "print(reg_model2.summary())\n",
    "\n"
   ]
  },
  {
   "cell_type": "code",
   "execution_count": 21,
   "id": "d4020b0d-045d-403c-8275-4dc286972ad0",
   "metadata": {},
   "outputs": [],
   "source": [
    "\n",
    "#Model aby zaobserwować obserwacje odstające"
   ]
  },
  {
   "cell_type": "code",
   "execution_count": 22,
   "id": "79344015-42a1-45f3-af87-1da16aa758b0",
   "metadata": {},
   "outputs": [],
   "source": [
    "#odstajace"
   ]
  },
  {
   "cell_type": "code",
   "execution_count": null,
   "id": "9e57ddc7-53f5-4a88-8a8a-a5945830a47b",
   "metadata": {},
   "outputs": [],
   "source": [
    "import stargazer\n",
    "print(stargazer.__file__)\n",
    "print(dir(stargazer))"
   ]
  },
  {
   "cell_type": "code",
   "execution_count": null,
   "id": "429c15c5-e2b5-4485-bc69-6ad665b08c7d",
   "metadata": {},
   "outputs": [],
   "source": [
    "#levare point \n",
    "h_lev = (2*len(reg_model2.params))/reg_model2.nobs\n",
    "round(h_lev, 2)"
   ]
  },
  {
   "cell_type": "code",
   "execution_count": null,
   "id": "2c93c9be-7d09-46f5-8341-d853c89b2fbc",
   "metadata": {},
   "outputs": [],
   "source": [
    "sm.graphics.influence_plot(reg_model2, criterion = 'Cooks')\n",
    "plt.axvline(x = round(h_lev, 2), color = 'g')\n",
    "plt.axhline(y = 2, color = 'r')\n",
    "plt.axhline(y = -2, color = 'r')\n",
    "plt.show()"
   ]
  },
  {
   "cell_type": "code",
   "execution_count": 26,
   "id": "12cfe0d8-156d-4c53-a5e2-e22b413b7a3d",
   "metadata": {},
   "outputs": [],
   "source": [
    "model3 = model2.drop(index=[771, 975, 1169, 881, 740, 974, 842, 482, 943, 603])"
   ]
  },
  {
   "cell_type": "code",
   "execution_count": null,
   "id": "120cd4ec-e412-4839-b47f-d57979b655d8",
   "metadata": {},
   "outputs": [],
   "source": [
    "import statsmodels.formula.api as smf\n",
    "\n",
    "\n",
    "# Zmienna zależna (logarytm wydatków)\n",
    "model3['log_wydatki'] = model3['wyd_os_lek'].apply(lambda x: np.log(x) if x > 0 else np.nan)\n",
    "\n",
    "model3['dochod_los'] = model3['doch_os'].apply(lambda x: 0.1 if (x == 0 or x<0) else x)\n",
    "\n",
    "# Formuła regresji\n",
    "formula = \"np.log(log_wydatki) ~ np.log(dochod_los) + wyzsze + srednie + powyzej500tys + od200do499 + od100do199 + od20do99 + ponizej20 + liczba_osob +I(liczba_osob**2) + I(liczba_osob**3)  + inwalidztwo\"\n",
    "\n",
    "# Regresja\n",
    "reg_2 = smf.ols(formula=formula, data=model3).fit()\n",
    "\n",
    "# Wyniki\n",
    "print(reg_2.summary())\n",
    "\n",
    "\n",
    "\n"
   ]
  },
  {
   "cell_type": "code",
   "execution_count": null,
   "id": "1a7fd2ca-7f1d-49ea-bac3-be850663eb12",
   "metadata": {},
   "outputs": [],
   "source": [
    "#Test Reset \n",
    "#najważniejsze założenie - czy jest to regresja liniowa \n",
    "model3['residuals'] = reg_2.resid\n",
    "\n",
    "model3['predictions'] = reg_2.predict()\n",
    "\n",
    "sns.residplot(data = model3, x = 'predictions' , y = 'residuals', line_kws = dict(color = 'g'))\n",
    "\n",
    "sns.residplot(data = model3, x = 'predictions' , y = 'residuals', lowess = True, line_kws = dict(color = 'g'))\n",
    "#ta zielona linia jest rodzajem spłaczczenia wykresu rozrzutu - nam zależy na tym aby ta zielona linia polrywała się z linią kropkowaną.\n",
    "#Idealnia jak ta zielona się pokrywa z kropkowaną "
   ]
  },
  {
   "cell_type": "code",
   "execution_count": 29,
   "id": "24fc220e-5d51-4ee9-8ac7-c69ae35fde20",
   "metadata": {},
   "outputs": [],
   "source": [
    "#Zielona linia nie jest zupełnie płaska – delikatnie się wygina, co może sugerować nieliniowość, poprawa do 44% reset przy pomocy logarytmu i zmiennych do kwadratu\n",
    "\n",
    "# Można zauważyć wachlarzowaty kształt – wariancja reszt nie jest całkiem stała (homoskedastyczna). Przy większych wartościach predykcji rozrzut się zwiększa → możliwa heteroskedastyczność.#\n",
    "#Następnie testy na heteroskedastycznosc - najprawdopodobniej uzycie macierzy odpornej "
   ]
  },
  {
   "cell_type": "code",
   "execution_count": null,
   "id": "68b2da28-1b59-4695-9bb5-22241ba54cf5",
   "metadata": {},
   "outputs": [],
   "source": [
    "#sam test reset\n",
    "import statsmodels.stats.api as sms\n",
    "sms.linear_reset(reg_2, power = 4, test_type ='fitted')"
   ]
  },
  {
   "cell_type": "code",
   "execution_count": null,
   "id": "adc26a5c-e460-4331-a9a8-9e9965c34af7",
   "metadata": {},
   "outputs": [],
   "source": [
    "#Heteroskedastyczność\n",
    "plt.scatter(reg_2.fittedvalues, reg_2.resid)\n",
    "plt.axhline(y = 0, color = 'red')\n",
    "plt.xlabel('fitted values')\n",
    "plt.ylabel('residuals')\n",
    "#więcej zaznaczonych obszarów na dole wykresu rozrzutu - podejrzenie o homoskedastycznosci"
   ]
  },
  {
   "cell_type": "code",
   "execution_count": null,
   "id": "60e43387-3d55-4c63-973e-11795611852a",
   "metadata": {},
   "outputs": [],
   "source": [
    "plt.scatter(reg_2.fittedvalues, reg_2.resid)\n",
    "plt.axhline(y = 0, color = 'red')\n",
    "plt.axhline(y = 0 + 3*reg_2.resid.std(), color = 'green')\n",
    "plt.axhline(y = 0 - 3*reg_2.resid.std(), color = 'green')\n",
    "plt.xlabel('fitted values')\n",
    "plt.ylabel('residuals')"
   ]
  },
  {
   "cell_type": "code",
   "execution_count": null,
   "id": "8aac34d5-1596-4e2e-be47-3eb8e7ee0bcc",
   "metadata": {},
   "outputs": [],
   "source": [
    "#test B-P\n",
    "test1 = sms.het_breuschpagan(reg_2.resid, reg_2.model.exog)\n",
    "test1\n",
    "#Odrzucam hipotezę zerowoą o homoskedastycznosci"
   ]
  },
  {
   "cell_type": "code",
   "execution_count": null,
   "id": "ba166fa8-e6b5-47d1-a58b-330ca2bc018e",
   "metadata": {},
   "outputs": [],
   "source": [
    "test2 = sms.het_white(reg_2.resid, reg_2.model.exog)\n",
    "test2\n",
    "#nie zdaje Whitey'a pomimo prob poprawy jak dodanie poteg, czy logarytmu, zatem stosuję macierz odporną "
   ]
  },
  {
   "cell_type": "code",
   "execution_count": 35,
   "id": "901dafc1-83b3-4f2a-80d9-7e68756adedf",
   "metadata": {},
   "outputs": [],
   "source": [
    "#Heteroskedastycznosc, zatem uzywam macierzy odpornej "
   ]
  },
  {
   "cell_type": "code",
   "execution_count": 36,
   "id": "4d4f47c4-9bea-4e49-8b6a-38c98646f8d1",
   "metadata": {},
   "outputs": [],
   "source": [
    "#Macierz Odporna "
   ]
  },
  {
   "cell_type": "code",
   "execution_count": null,
   "id": "0537fac9-6adb-4688-bc58-cdb09cb18474",
   "metadata": {},
   "outputs": [],
   "source": [
    "import statsmodels.formula.api as smf\n",
    "\n",
    "\n",
    "# Zmienna zależna (logarytm wydatków)\n",
    "model3['log_wydatki'] = model3['wyd_os_lek'].apply(lambda x: np.log(x) if x > 0 else np.nan)\n",
    "\n",
    "model3['dochod_los'] = model3['doch_os'].apply(lambda x: 0.1 if (x == 0 or x<0) else x)\n",
    "\n",
    "# Formuła regresji\n",
    "formula = \"np.log(log_wydatki) ~ np.log(dochod_los) + wyzsze + srednie + powyzej500tys + od200do499 + od100do199 + od20do99 + ponizej20 + liczba_osob +I(liczba_osob**2) + I(liczba_osob**3)  + inwalidztwo\"\n",
    "robust_reg_3 = smf.ols(formula=formula, data=model3).fit(cov_type = 'HC0')\n",
    "print(robust_reg_3.summary())"
   ]
  },
  {
   "cell_type": "code",
   "execution_count": null,
   "id": "7a1d4129-56e5-4b27-b2c5-ec53f47ece37",
   "metadata": {},
   "outputs": [],
   "source": [
    "#sam test reset\n",
    "import statsmodels.stats.api as sms\n",
    "sms.linear_reset(robust_reg_3, power = 4, test_type ='fitted')"
   ]
  },
  {
   "cell_type": "code",
   "execution_count": 39,
   "id": "cf1de318-8d6f-409e-8bef-9a12e2d5b838",
   "metadata": {},
   "outputs": [],
   "source": [
    "#VIF"
   ]
  },
  {
   "cell_type": "code",
   "execution_count": null,
   "id": "63bf901e-4cea-4493-8eda-9bcf2d3ea3dd",
   "metadata": {},
   "outputs": [],
   "source": [
    "from statsmodels.stats.outliers_influence import variance_inflation_factor\n",
    "import patsy\n",
    "\n",
    "# Przygotowanie macierzy projektowej na podstawie formuły modelu\n",
    "y, X = patsy.dmatrices(formula, data=model3, return_type=\"dataframe\")\n",
    "\n",
    "# Obliczanie współczynników VIF\n",
    "vif_data = pd.DataFrame({\n",
    "    \"Variable\": X.columns,\n",
    "    \"VIF\": [variance_inflation_factor(X.values, i) for i in range(X.shape[1])]\n",
    "})\n",
    "\n",
    "# Wyświetlenie tabeli\n",
    "print(vif_data)"
   ]
  },
  {
   "cell_type": "code",
   "execution_count": 41,
   "id": "3ffa1c95-6050-4a3d-817c-6d4c6498ca89",
   "metadata": {},
   "outputs": [],
   "source": [
    "#Vify bez przekształceń zmiennych poniżej 10 - w porządku "
   ]
  },
  {
   "cell_type": "code",
   "execution_count": 42,
   "id": "050b0598-8502-4335-b43c-5e255bc75453",
   "metadata": {},
   "outputs": [],
   "source": [
    "#Test J-B\n",
    "from statsmodels.stats.stattools import jarque_bera"
   ]
  },
  {
   "cell_type": "code",
   "execution_count": 43,
   "id": "56d2d912-f0b7-4817-8df5-1bb1d3b60d37",
   "metadata": {},
   "outputs": [],
   "source": [
    "residuals_j_b = robust_reg_3.resid"
   ]
  },
  {
   "cell_type": "code",
   "execution_count": null,
   "id": "8806a094-a961-415b-bc12-e4db3de49777",
   "metadata": {},
   "outputs": [],
   "source": [
    "jb_test_stat, jb_pvalue, skew, kurtosis = jarque_bera(residuals_j_b)\n",
    "print(f\"Statystyka testu: {jb_test_stat}, p-wartość: {jb_pvalue}\")"
   ]
  },
  {
   "cell_type": "code",
   "execution_count": null,
   "id": "6ecb98cd-fd5d-4e34-8913-64b85cedd781",
   "metadata": {},
   "outputs": [],
   "source": [
    "import scipy.stats as stats\n",
    "# Tworzymy wykres QQ\n",
    "plt.figure(figsize=(6,6))\n",
    "stats.probplot(residuals_j_b, dist=\"norm\", plot=plt)\n",
    "\n",
    "# Wyświetlamy wykres\n",
    "plt.title('Wykres QQ reszt')\n",
    "plt.show()"
   ]
  },
  {
   "cell_type": "code",
   "execution_count": 46,
   "id": "97b49fe5-fc11-4f4b-92f4-68375ba7a558",
   "metadata": {},
   "outputs": [],
   "source": [
    "#W środkowym zakresie (od ok. -2 do +2) reszty dobrze pokrywają się z linią → rozkład jest bliski normalnemu.\n",
    "\n",
    "#Na krańcach (zarówno dla niskich, jak i wysokich wartości) widać niewielkie odchylenia od czerwonej linii – to typowe i nie musi od razu świadczyć o dużym problemie.\n",
    "\n",
    "#Dane empiryczne często mają grubsze lub cieńsze ogony --> Mam ponad 1000 obserwacji dzięki Centralnemu Twierdzeniu Granicznego (CTG) --> zakładam noramalność rozkłądu"
   ]
  },
  {
   "cell_type": "code",
   "execution_count": null,
   "id": "71a8d2ba",
   "metadata": {},
   "outputs": [],
   "source": [
    "import pandas as pd\n",
    "from scipy.stats import anderson, normaltest\n",
    "\n",
    "def perform_normality_tests(series):\n",
    "    \"\"\"\n",
    "    Wykonuje dwa testy normalności: Andersona-Darlinga oraz test D'Agostino-Pearsona.\n",
    "    \n",
    "    Args:\n",
    "        series (pd.Series): Kolumna danych.\n",
    "        \n",
    "    Returns:\n",
    "        dict: Wyniki testów.\n",
    "    \"\"\"\n",
    "    # Usuwamy brakujące dane\n",
    "    values = series.dropna()\n",
    "    if len(values) < 3:\n",
    "        return None\n",
    "\n",
    "    # Test Andersona-Darlinga\n",
    "    ad_result = anderson(values)\n",
    "    \n",
    "    # Test D'Agostino-Pearsona\n",
    "    stat_np, p_np = normaltest(values)\n",
    "    \n",
    "    return {\n",
    "        'anderson_statistic': ad_result.statistic,\n",
    "        'anderson_critical_values': ad_result.critical_values,\n",
    "        'anderson_significance_levels': ad_result.significance_level,\n",
    "        'dagostino_statistic': stat_np,\n",
    "        'dagostino_pvalue': p_np\n",
    "    }\n",
    "\n",
    "# Wczytanie danych (upewnij się, że ścieżka do pliku jest poprawna)\n",
    "data_path = \"Model_Lekarz.xlsx\"\n",
    "data = pd.read_excel(data_path)\n",
    "\n",
    "# Wybieramy kolumnę do testu, np. 'wyd_os_lek'\n",
    "column_to_test = \"wyd_os_lek\"\n",
    "results = perform_normality_tests(data[column_to_test])\n",
    "\n",
    "# Prezentacja wyników\n",
    "print(\"Wyniki testu Andersona-Darlinga:\")\n",
    "print(f\"Statystyka: {results['anderson_statistic']:.4f}\")\n",
    "print(\"Krytyczne wartości i poziomy istotności:\")\n",
    "for crit_val, sig_level in zip(results['anderson_critical_values'], results['anderson_significance_levels']):\n",
    "    print(f\"   Poziom istotności {sig_level}%: {crit_val:.4f}\")\n",
    "    \n",
    "print(\"\\nWyniki testu D'Agostino-Pearsona:\")\n",
    "print(f\"Statystyka: {results['dagostino_statistic']:.4f}\")\n",
    "print(f\"P-value: {results['dagostino_pvalue']:.4f}\")\n",
    "\n",
    "# Interpretacja:\n",
    "if results['dagostino_pvalue'] > 0.05:\n",
    "    print(\"\\nD'Agostino-Pearsona: Dane są zgodne z rozkładem normalnym.\")\n",
    "else:\n",
    "    print(\"\\nD'Agostino-Pearsona: Dane nie są zgodne z rozkładem normalnym.\")"
   ]
  }
 ],
 "metadata": {
  "kernelspec": {
   "display_name": "blockchain",
   "language": "python",
   "name": "python3"
  },
  "language_info": {
   "codemirror_mode": {
    "name": "ipython",
    "version": 3
   },
   "file_extension": ".py",
   "mimetype": "text/x-python",
   "name": "python",
   "nbconvert_exporter": "python",
   "pygments_lexer": "ipython3",
   "version": "3.12.9"
  }
 },
 "nbformat": 4,
 "nbformat_minor": 5
}
